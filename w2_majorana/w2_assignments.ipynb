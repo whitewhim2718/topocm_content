{
 "cells": [
  {
   "cell_type": "code",
   "execution_count": null,
   "metadata": {},
   "outputs": [],
   "source": [
    "import sys\n",
    "sys.path.append('../code')\n",
    "from init_mooc_nb import *\n",
    "init_notebook()"
   ]
  },
  {
   "cell_type": "markdown",
   "metadata": {},
   "source": [
    "# Simulation: tweaking the nanowire"
   ]
  },
  {
   "cell_type": "markdown",
   "metadata": {},
   "source": [
    "We have two choices for your coding assignments of this week. Consider the task complete when you finish one of the two.\n",
    "\n",
    "This is especially true since both of the assignments constitute a complete paper :)\n",
    "\n",
    "As usual, start by grabbing the notebooks of this week (`w2_majorana`). They are once again over [here](http://tiny.cc/topocm_smc).\n",
    "\n",
    "## Tilted magnetic field\n",
    "\n",
    "Explore what happens when we change one the important knobs of the nanowire model, the external magnetic field. We studied what happens when $B$ is pointing along the $z$ direction. However, what happens when the magnetic field is tilted?\n",
    "\n",
    "Generalize the Hamiltonian of the nanowire to the case of a magnetic field with three components $B_x, B_y, B_z$. How do the new terms look like?\n",
    "\n",
    "Go into the `nanowire` notebook. Modify the `nanowire_chain` function to include the magnetic field pointing in general direction.\n",
    "Plot the band structure for different field directions, and compare to the original case of having only $B_z$. What changes?\n",
    "\n",
    "Compare your results with what you find over here:"
   ]
  },
  {
   "cell_type": "code",
   "execution_count": null,
   "metadata": {},
   "outputs": [],
   "source": [
    "display_html(PreprintReference('1403.4464'))"
   ]
  },
  {
   "cell_type": "markdown",
   "metadata": {},
   "source": [
    "## From $4\\pi$ to $2\\pi$.\n",
    "\n",
    "Now let's switch to the signatures of Majoranas. The code for these is in the `signatures` notebook.\n",
    "\n",
    "How does the $4\\pi$-periodic Josephson effect disapper? We argued that we cannot just remove a single crossing. Also periodicity isn't a continuous variable and cannot just change. So what is happening?\n",
    "\n",
    "Study the spectrum of a superconducting ring as a function of magnetic field, as you make a transition between the trivial and the topological regimes.\n",
    "\n",
    "What do you see? Compare your results with the paper below."
   ]
  },
  {
   "cell_type": "code",
   "execution_count": null,
   "metadata": {},
   "outputs": [],
   "source": [
    "PreprintReference(\"1210.3237\")"
   ]
  },
  {
   "cell_type": "code",
   "execution_count": null,
   "metadata": {},
   "outputs": [],
   "source": [
    "MoocSelfAssessment(due=5*7, review_due=6*7)"
   ]
  },
  {
   "cell_type": "code",
   "execution_count": null,
   "metadata": {},
   "outputs": [],
   "source": [
    "MoocDiscussion('Labs', 'Majorana nanowire')"
   ]
  },
  {
   "cell_type": "markdown",
   "metadata": {},
   "source": [
    "# Review assignment"
   ]
  },
  {
   "cell_type": "markdown",
   "metadata": {},
   "source": [
    "As we mentioned, there are really hundreds of papers that use the models and concepts that we used in the lecture.\n",
    "\n",
    "Here is a small selection of the ones that you may find interesting."
   ]
  },
  {
   "cell_type": "code",
   "execution_count": null,
   "metadata": {},
   "outputs": [],
   "source": [
    "display_html(PreprintReference('1204.2792',\n",
    "                               description=\"Welcome to the real world.\"))\n",
    "\n",
    "display_html(PreprintReference('1101.5795',\n",
    "                               description=\"Majorana conductance with many modes.\"))\n",
    "\n",
    "display_html(PreprintReference('1006.4395',\n",
    "                               description=\"To play a nice melody, you just need a keyboard. \"\n",
    "                                           \"This paper first showed how Majoranas in wire networks can be moved around\"))\n",
    "\n",
    "display_html(PreprintReference('1008.0629', description=\"Real nanowires are more complicated.\"))"
   ]
  },
  {
   "cell_type": "markdown",
   "metadata": {},
   "source": [
    "### Bonus: Find your own paper to review!\n",
    "\n",
    "Do you know of another paper that fits into the topics of this week, and you think is good?\n",
    "Then you can get bonus points by reviewing that paper instead!"
   ]
  },
  {
   "cell_type": "code",
   "execution_count": null,
   "metadata": {},
   "outputs": [],
   "source": [
    "MoocPeerAssessment(due=5*7, review_due=6*7)"
   ]
  },
  {
   "cell_type": "code",
   "execution_count": null,
   "metadata": {},
   "outputs": [],
   "source": [
    "MoocDiscussion(\"Reviews\", \"Majoranas\")"
   ]
  }
 ],
 "metadata": {
  "kernelspec": {
   "display_name": "Python 3",
   "language": "python",
   "name": "python3"
  },
  "language_info": {
   "codemirror_mode": {
    "name": "ipython",
    "version": 3
   },
   "file_extension": ".py",
   "mimetype": "text/x-python",
   "name": "python",
   "nbconvert_exporter": "python",
   "pygments_lexer": "ipython3",
   "version": "3.6.5"
  }
 },
 "nbformat": 4,
 "nbformat_minor": 2
}
