{
 "cells": [
  {
   "cell_type": "code",
   "execution_count": null,
   "metadata": {
    "collapsed": false
   },
   "outputs": [],
   "source": [
    "import sys\n",
    "sys.path.append('../code')\n",
    "from init_mooc_nb import *\n",
    "init_notebook()"
   ]
  },
  {
   "cell_type": "markdown",
   "metadata": {},
   "source": [
    "# Simulations: what about other symmetries"
   ]
  },
  {
   "cell_type": "markdown",
   "metadata": {},
   "source": [
    "So you've made it through the content of the first week. Congratulations!\n",
    "\n",
    "Now let's get our hands dirty. \n",
    "\n",
    "Let's begin by grabbing the notebooks of this week and the extra code we use to run these notebooks over [here](http://tiny.cc/topocm_smc). (Click the [i] button to the left of the folder that you want to copy.)\n",
    "\n",
    "You need to copy the `code` folder and the `w1_topointro` folder. Let's look into what's inside.\n",
    "\n",
    "\n",
    "#### First task: combination of particle-hole and time-reversal symmetries\n",
    "\n",
    "Look at the notebook about topology of zero-dimensional systems, and see how we generate Hamiltonians with a spinful time-reversal symmetry\n",
    "\n",
    "$$\n",
    "H = \\sigma_y H^* \\sigma_y.\n",
    "$$\n",
    "\n",
    "Now try to add this time reversal symmetry to a Hamiltonian which also has particle-hole symmetry. It is easiest to do in the basis where particle-hole symmetry has the form $H = -H^*$.\n",
    "What do you think will happen? What will the extra symmetry do to the topological invariant?\n",
    "Test your guess by plotting the spectrum and calculating the Pfaffian invariant.\n",
    "\n",
    "\n",
    "#### Second task: Su-Schrieffer-Heeger (SSH) model\n",
    "\n",
    "Similar to the Kitaev chain, the SSH model is simple a one-dimensional model where you can see all the essential aspects of topological systems. Unlike the Kitaev chain it does correspond to a physical system: electrons in a polyacetylene chain.\n",
    "\n",
    "Here's such a chain:\n",
    "\n",
    "![](figures/polyacetylene.png)\n",
    "\n",
    "Due to the dimerization of the chain the unit cell has two atoms and the hoppings have alternating strengths $t_1$ and $t_2$, so that the Hamiltonian is\n",
    "$$H = \\sum_{n=1}^N t_1 \\left|2n-1\\right\\rangle\\left\\langle 2n\\right|+t_2 \\left|2n\\right\\rangle \\left\\langle 2n+1\\right| + \\textrm{h.c}$$\n",
    "\n",
    "We can choose to start a unit cell from an even-numbered site, so $t_1$ becomes intra-cell hopping and $t_2$ inter-cell hopping.\n",
    "\n",
    "\n",
    "Now get the notebook with the Kitaev chain and transform a Kitaev chain into an SSH chain.\n",
    "\n",
    "Now repeat the calculations we've done with Majoranas using SSH chain. Keep $t_1 = 1$ and vary $t_2$.\n",
    "You should see something very similar to what you saw with the Kitaev chain.\n",
    "\n",
    "As you can guess, this is because the chain is topological.\n",
    "Think for a moment: what kind of symmetry protects the states at the edges of the chain.\n",
    "*(Hint: you did encounter this symmetry in our course.)*\n",
    "\n",
    "The particle-hole symmetry, is a consequence of a mathematical transformation, and cannot be broken.\n",
    "The symmetry protecting the SSH chain, however, can be broken.\n",
    "Test your guess about the protecting symmetry by adding to your chain a term which breaks this symmetry and checking what it does to the spectrum of a finite chain and to its dispersion (especially as chain goes through a phase transition)."
   ]
  },
  {
   "cell_type": "code",
   "execution_count": null,
   "metadata": {
    "collapsed": false
   },
   "outputs": [],
   "source": [
    "MoocSelfAssessment()"
   ]
  },
  {
   "cell_type": "markdown",
   "metadata": {},
   "source": [
    "**Now share your results:**"
   ]
  },
  {
   "cell_type": "code",
   "execution_count": null,
   "metadata": {
    "collapsed": false
   },
   "outputs": [],
   "source": [
    "MoocDiscussion('Labs', 'Toy models simulations')"
   ]
  },
  {
   "cell_type": "markdown",
   "metadata": {},
   "source": [
    "# Review assignment"
   ]
  },
  {
   "cell_type": "markdown",
   "metadata": {},
   "source": [
    "For the first week we have these papers:"
   ]
  },
  {
   "cell_type": "code",
   "execution_count": null,
   "metadata": {
    "collapsed": false
   },
   "outputs": [],
   "source": [
    "display_html(PreprintReference('1103.0780', \n",
    "  description=\"Topological classification is not always applied to Hamiltonians. \"\n",
    "              \"Figure out what is the topological quantity in open systems. \"\n",
    "              \"See this idea also applied in <a href=http://arxiv.org/abs/1405.6896>\"\n",
    "              \"http://arxiv.org/abs/1405.6896</a>\"))\n",
    "display_html(PreprintReference('1305.2924', description=\"This is a study of statistical properties \"\n",
    "                                       \"of topological transitions.\"))\n",
    "display_html(PreprintReference('1111.6600', description=\"A toy model may still be useful in practice.\"))"
   ]
  },
  {
   "cell_type": "markdown",
   "metadata": {},
   "source": [
    "### Bonus: Find your own paper to review!\n",
    "\n",
    "Do you know of another paper that fits into the topics of this week, and you think is good?\n",
    "Then you can get bonus points by reviewing that paper instead!"
   ]
  },
  {
   "cell_type": "code",
   "execution_count": null,
   "metadata": {
    "collapsed": false
   },
   "outputs": [],
   "source": [
    "MoocPeerAssessment()"
   ]
  },
  {
   "cell_type": "markdown",
   "metadata": {},
   "source": [
    "**Do you have questions about what you read? Would you like to suggest other papers? Tell us:**"
   ]
  },
  {
   "cell_type": "code",
   "execution_count": null,
   "metadata": {
    "collapsed": false
   },
   "outputs": [],
   "source": [
    "MoocDiscussion(\"Reviews\", \"Toy models\")"
   ]
  }
 ],
 "metadata": {
  "kernelspec": {
   "display_name": "Python 3",
   "language": "python",
   "name": "python3"
  },
  "language_info": {
   "codemirror_mode": {
    "name": "ipython",
    "version": 3
   },
   "file_extension": ".py",
   "mimetype": "text/x-python",
   "name": "python",
   "nbconvert_exporter": "python",
   "pygments_lexer": "ipython3",
   "version": "3.6.5"
  }
 },
 "nbformat": 4,
 "nbformat_minor": 2
}
